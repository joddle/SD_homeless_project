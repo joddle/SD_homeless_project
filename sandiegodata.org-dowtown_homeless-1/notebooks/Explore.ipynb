{
 "cells": [
  {
   "cell_type": "code",
   "execution_count": 1,
   "metadata": {},
   "outputs": [],
   "source": [
    "import seaborn as sns\n",
    "import metapack as mp\n",
    "import pandas as pd\n",
    "import numpy as np\n",
    "import matplotlib.pyplot as plt\n",
    "from IPython.display import display \n",
    "\n",
    "%matplotlib inline\n",
    "sns.set_context('notebook')\n",
    "mp.jupyter.init()\n"
   ]
  },
  {
   "cell_type": "code",
   "execution_count": 2,
   "metadata": {},
   "outputs": [
    {
     "data": {
      "text/html": [
       "<h1>Downtown San Diego Homeless Sleepers</h1>\n",
       "<p><code>sandiegodata.org-dowtown_homeless-1</code> Last Update: 2019-09-27T22:05:39</p>\n",
       "<p><em>Five years of monthly geographic positions for homeless sleepers in Downtown San Diego</em></p>\n",
       "<p>This dataset provides geographic locations for homeless sleepers in Downtown San Diego, as counted by enumerators from the Downtown San Diego Partnership. These counts have been done monthly since 2012, and this dataset provides counts since 2014. </p>\n",
       "<p><center><a href=\"https://i2.wp.com/www.sandiegodata.org/wp-content/uploads/sites/19/2019/09/Homeless-Sleepers.png?ssl=1\"><img src=\"https://i2.wp.com/www.sandiegodata.org/wp-content/uploads/sites/19/2019/09/Homeless-Sleepers.png?ssl=1\" width=\"400px\"></a></center></p>\n",
       "<p>The count is done on paper maps with handwritten count marks. The San Diego\n",
       "Regional Data Library's <a href=\"http://downtown-homelessness.sandiegodata.org/\">Downton Homelessness\n",
       "project</a> converted these\n",
       "scanned count maps using a <a href=\"http://www.robots.ox.ac.uk/~vgg/software/via/\">web based image annotation\n",
       "tool</a>.</p>\n",
       "<h2>Caveats</h2>\n",
       "<ul>\n",
       "<li>The <code>total_count</code> often does not match the sum of counts on the map. These sums were made by hand, buy the enumerator who made the counts, so there are occasional arithmetic errors.  </li>\n",
       "<li>There are many instances of missing values for <code>rain</code> or <code>temp</code></li>\n",
       "<li>Some dates include the day of the month, but many don't These dates have a day of month of 1</li>\n",
       "</ul>\n",
       "<h2>Contacts</h2>\n",
       "<ul>\n",
       "<li><strong>Wrangler</strong> <a href=\"mailto:eric@civicknowledge.com\">Eric Busboom</a>, <a href=\"http://civicknowledge.com\">Civic Knowledge</a></li>\n",
       "</ul>\n",
       "<h2>Resources</h2>\n",
       "<ul>\n",
       "<li><strong> <a href=\"data/homeless_counts.csv\">homeless_counts</a></strong>. Counts of homeless sleepers in Downtown San Diego, 2014 to mid 2018.</li>\n",
       "</ul>\n",
       "<h2>References</h2>\n",
       "<p><ul><li> <strong>counts</string>, <em>metapack+http://library.metatab.org/sandiegodata.org-downtown_homeless-source-1.csv#counts</em>. Final homeless sleeper counts</li><li> <strong>files</string>, <em>metapack+http://library.metatab.org/sandiegodata.org-downtown_homeless-source-1.csv#files</em>. Final file annotations, including total counts, temperature and weather.</li><li> <strong>blocks</string>, <em>shape+https://www2.census.gov/geo/pvs/tiger2010st/06_California/06073/tl_2010_06073_tabblock10.zip</em>. 2010 Census blocks for San Diego County</li><ul></p>"
      ],
      "text/plain": [
       "# Downtown San Diego Homeless Sleepers\n",
       "`sandiegodata.org-dowtown_homeless-1` Last Update: 2019-09-27T22:05:39\n",
       "\n",
       "_Five years of monthly geographic positions for homeless sleepers in Downtown San Diego_\n",
       "\n",
       "\n",
       "This dataset provides geographic locations for homeless sleepers in Downtown San Diego, as counted by enumerators from the Downtown San Diego Partnership. These counts have been done monthly since 2012, and this dataset provides counts since 2014. \n",
       "\n",
       "<center><a href=\"https://i2.wp.com/www.sandiegodata.org/wp-content/uploads/sites/19/2019/09/Homeless-Sleepers.png?ssl=1\"><img src=\"https://i2.wp.com/www.sandiegodata.org/wp-content/uploads/sites/19/2019/09/Homeless-Sleepers.png?ssl=1\" width=\"400px\"></a></center>\n",
       "\n",
       "\n",
       "The count is done on paper maps with handwritten count marks. The San Diego\n",
       "Regional Data Library's [Downton Homelessness\n",
       "project](http://downtown-homelessness.sandiegodata.org/) converted these\n",
       "scanned count maps using a [web based image annotation\n",
       "tool](http://www.robots.ox.ac.uk/~vgg/software/via/).\n",
       "\n",
       "\n",
       "## Caveats\n",
       "\n",
       "\n",
       "* The ``total_count`` often does not match the sum of counts on the map. These sums were made by hand, buy the enumerator who made the counts, so there are occasional arithmetic errors.  \n",
       "* There are many instances of missing values for ``rain`` or ``temp``\n",
       "* Some dates include the day of the month, but many don't These dates have a day of month of 1\n",
       "\n",
       "\n",
       " \n",
       "\n",
       "## Contacts\n",
       "\n",
       "* **Wrangler** [Eric Busboom](mailto:eric@civicknowledge.com), [Civic Knowledge](http://civicknowledge.com)\n",
       "\n",
       "## Resources\n",
       "\n",
       "* ** [homeless_counts](data/homeless_counts.csv)**. Counts of homeless sleepers in Downtown San Diego, 2014 to mid 2018.\n",
       "\n",
       "## References\n",
       "<ul><li> <strong>counts</string>, <em>metapack+http://library.metatab.org/sandiegodata.org-downtown_homeless-source-1.csv#counts</em>. Final homeless sleeper counts</li><li> <strong>files</string>, <em>metapack+http://library.metatab.org/sandiegodata.org-downtown_homeless-source-1.csv#files</em>. Final file annotations, including total counts, temperature and weather.</li><li> <strong>blocks</string>, <em>shape+https://www2.census.gov/geo/pvs/tiger2010st/06_California/06073/tl_2010_06073_tabblock10.zip</em>. 2010 Census blocks for San Diego County</li><ul>\n"
      ]
     },
     "execution_count": 2,
     "metadata": {},
     "output_type": "execute_result"
    }
   ],
   "source": [
    "pkg = mp.jupyter.open_package()\n",
    "#pkg = mp.jupyter.open_source_package()\n",
    "pkg"
   ]
  },
  {
   "cell_type": "code",
   "execution_count": 3,
   "metadata": {},
   "outputs": [
    {
     "data": {
      "text/html": [
       "<h3><a name=\"resource-homeless_counts\"></a>homeless_counts</h3><p><a target=\"_blank\" href=\"file:///Users/eric/proj/data-projects/downtown-partnership/datasets/sandiegodata.org-downtown_homeless/_packages/sandiegodata.org-dowtown_homeless-1/data/homeless_counts.csv\">file:///Users/eric/proj/data-projects/downtown-partnership/datasets/sandiegodata.org-downtown_homeless/_packages/sandiegodata.org-dowtown_homeless-1/data/homeless_counts.csv</a></p><table>\n",
       "<tr><th>Header</th><th>Type</th><th>Description</th></tr><tr><td>neighborhood</td><td>string</td><td>Neighborhood, from the label on the source map</td></tr> \n",
       "<tr><td>date</td><td>datetime</td><td>Date of the observation. Many dates have no know day of month; for these dates, the day of month is set to 1</td></tr> \n",
       "<tr><td>type</td><td>string</td><td>Type of sleeper: individual, vehicle or structure</td></tr> \n",
       "<tr><td>temp</td><td>integer</td><td>Temperature, if it was written on the source map</td></tr> \n",
       "<tr><td>rain</td><td>string</td><td>Rain or clear, if it was written on the source map</td></tr> \n",
       "<tr><td>geoid</td><td>string</td><td>Census geoid for the 2010 Census block the observation is in, in ACS format</td></tr> \n",
       "<tr><td>x</td><td>number</td><td>X geographic position, in California State Plane 6, EPSG:2230</td></tr> \n",
       "<tr><td>y</td><td>number</td><td>Y geographic position, in California State Plane 6, EPSG:2230</td></tr> \n",
       "<tr><td>geometry</td><td>string</td><td>Geographic position of observation, in Lat/Lon, EPSG:4326</td></tr> </table>"
      ],
      "text/plain": [
       "<Resource: metadata.csv 34:1 root.datafile data/homeless_counts.csv ['homeless_counts', 'Counts of homeless sleepers in Downtown San Diego, 2014 to mid 2018.', '', '']>"
      ]
     },
     "metadata": {},
     "output_type": "display_data"
    },
    {
     "data": {
      "text/html": [
       "<div>\n",
       "<style scoped>\n",
       "    .dataframe tbody tr th:only-of-type {\n",
       "        vertical-align: middle;\n",
       "    }\n",
       "\n",
       "    .dataframe tbody tr th {\n",
       "        vertical-align: top;\n",
       "    }\n",
       "\n",
       "    .dataframe thead th {\n",
       "        text-align: right;\n",
       "    }\n",
       "</style>\n",
       "<table border=\"1\" class=\"dataframe\">\n",
       "  <thead>\n",
       "    <tr style=\"text-align: right;\">\n",
       "      <th></th>\n",
       "      <th>neighborhood</th>\n",
       "      <th>date</th>\n",
       "      <th>type</th>\n",
       "      <th>temp</th>\n",
       "      <th>rain</th>\n",
       "      <th>geoid</th>\n",
       "      <th>x</th>\n",
       "      <th>y</th>\n",
       "      <th>geometry</th>\n",
       "    </tr>\n",
       "  </thead>\n",
       "  <tbody>\n",
       "    <tr>\n",
       "      <th>0</th>\n",
       "      <td>east_village</td>\n",
       "      <td>2015-02-26</td>\n",
       "      <td>individual</td>\n",
       "      <td></td>\n",
       "      <td>clear</td>\n",
       "      <td>10100US060730054004017</td>\n",
       "      <td>6.282705e+06</td>\n",
       "      <td>1.839576e+06</td>\n",
       "      <td>POLYGON ((-117.157385 32.710435, -117.157386 3...</td>\n",
       "    </tr>\n",
       "    <tr>\n",
       "      <th>1</th>\n",
       "      <td>East Village South</td>\n",
       "      <td>2017-08-31</td>\n",
       "      <td>individual</td>\n",
       "      <td></td>\n",
       "      <td></td>\n",
       "      <td>10100US060730054004017</td>\n",
       "      <td>6.282685e+06</td>\n",
       "      <td>1.839585e+06</td>\n",
       "      <td>POLYGON ((-117.157385 32.710435, -117.157386 3...</td>\n",
       "    </tr>\n",
       "    <tr>\n",
       "      <th>2</th>\n",
       "      <td>East Village South</td>\n",
       "      <td>2017-08-31</td>\n",
       "      <td>individual</td>\n",
       "      <td></td>\n",
       "      <td></td>\n",
       "      <td>10100US060730054004017</td>\n",
       "      <td>6.282685e+06</td>\n",
       "      <td>1.839585e+06</td>\n",
       "      <td>POLYGON ((-117.157385 32.710435, -117.157386 3...</td>\n",
       "    </tr>\n",
       "    <tr>\n",
       "      <th>3</th>\n",
       "      <td>East Village South</td>\n",
       "      <td>2017-10-23</td>\n",
       "      <td>individual</td>\n",
       "      <td>66</td>\n",
       "      <td>clear</td>\n",
       "      <td>10100US060730054004017</td>\n",
       "      <td>6.282745e+06</td>\n",
       "      <td>1.839588e+06</td>\n",
       "      <td>POLYGON ((-117.157385 32.710435, -117.157386 3...</td>\n",
       "    </tr>\n",
       "    <tr>\n",
       "      <th>4</th>\n",
       "      <td>east_village</td>\n",
       "      <td>2015-03-26</td>\n",
       "      <td>individual</td>\n",
       "      <td></td>\n",
       "      <td>clear</td>\n",
       "      <td>10100US060730054004017</td>\n",
       "      <td>6.282740e+06</td>\n",
       "      <td>1.839639e+06</td>\n",
       "      <td>POLYGON ((-117.157385 32.710435, -117.157386 3...</td>\n",
       "    </tr>\n",
       "  </tbody>\n",
       "</table>\n",
       "</div>"
      ],
      "text/plain": [
       "         neighborhood       date        type temp   rain  \\\n",
       "0        east_village 2015-02-26  individual       clear   \n",
       "1  East Village South 2017-08-31  individual               \n",
       "2  East Village South 2017-08-31  individual               \n",
       "3  East Village South 2017-10-23  individual   66  clear   \n",
       "4        east_village 2015-03-26  individual       clear   \n",
       "\n",
       "                    geoid             x             y  \\\n",
       "0  10100US060730054004017  6.282705e+06  1.839576e+06   \n",
       "1  10100US060730054004017  6.282685e+06  1.839585e+06   \n",
       "2  10100US060730054004017  6.282685e+06  1.839585e+06   \n",
       "3  10100US060730054004017  6.282745e+06  1.839588e+06   \n",
       "4  10100US060730054004017  6.282740e+06  1.839639e+06   \n",
       "\n",
       "                                            geometry  \n",
       "0  POLYGON ((-117.157385 32.710435, -117.157386 3...  \n",
       "1  POLYGON ((-117.157385 32.710435, -117.157386 3...  \n",
       "2  POLYGON ((-117.157385 32.710435, -117.157386 3...  \n",
       "3  POLYGON ((-117.157385 32.710435, -117.157386 3...  \n",
       "4  POLYGON ((-117.157385 32.710435, -117.157386 3...  "
      ]
     },
     "execution_count": 3,
     "metadata": {},
     "output_type": "execute_result"
    }
   ],
   "source": [
    "display(pkg.resource('homeless_counts'))\n",
    "hc = pkg.resource('homeless_counts').dataframe()\n",
    "hc.head()"
   ]
  },
  {
   "cell_type": "code",
   "execution_count": 4,
   "metadata": {},
   "outputs": [
    {
     "data": {
      "text/plain": [
       "41851"
      ]
     },
     "execution_count": 4,
     "metadata": {},
     "output_type": "execute_result"
    }
   ],
   "source": [
    "len(hc)"
   ]
  },
  {
   "cell_type": "code",
   "execution_count": 5,
   "metadata": {},
   "outputs": [
    {
     "data": {
      "text/plain": [
       "62"
      ]
     },
     "execution_count": 5,
     "metadata": {},
     "output_type": "execute_result"
    }
   ],
   "source": [
    "len(hc.set_index('date').groupby(pd.Grouper(freq=\"M\")).size())"
   ]
  },
  {
   "cell_type": "code",
   "execution_count": null,
   "metadata": {},
   "outputs": [],
   "source": []
  }
 ],
 "metadata": {
  "kernelspec": {
   "display_name": "Python 3",
   "language": "python",
   "name": "python3"
  },
  "language_info": {
   "codemirror_mode": {
    "name": "ipython",
    "version": 3
   },
   "file_extension": ".py",
   "mimetype": "text/x-python",
   "name": "python",
   "nbconvert_exporter": "python",
   "pygments_lexer": "ipython3",
   "version": "3.6.8"
  }
 },
 "nbformat": 4,
 "nbformat_minor": 2
}
